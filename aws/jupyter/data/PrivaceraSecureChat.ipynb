{
 "cells": [
  {
   "cell_type": "markdown",
   "metadata": {
    "id": "vM6Yo7miVSEJ"
   },
   "source": [
    "<center>\n",
    "    <p style=\"text-align:center\">\n",
    "        <img width=\"500\" height=\"120\" src=\"https://privacera.com/wp-content/uploads/2022/11/logo.png\" alt=\"Privacera\" class=\"site-logo__image entered lazyloaded\" data-lazy-src=\"https://privacera.com/wp-content/uploads/2022/11/logo.png\" data-ll-status=\"loaded\">\n",
    "        <br>\n",
    "        <a href=\"https://privacera.com/\">Visit Us</a>\n",
    "        |\n",
    "        <a href=\"https://privacera.com/docs/?lang=en\">Docs</a>\n",
    "    </p>\n",
    "</center>\n",
    "<div width=\"100%\"> <h1 style=\"text-align:center;align-self: center\">Privacera SecureChat</h1> </div>\n",
    "\n",
    "Secure Chat is a conversational AI chat bot .\n",
    "Secure chat allows users to create  conversations with an AI chat bot which is secured by Privacera AI Governance Services(PAIG).\n",
    "Secure chat SDK/Library provides an easy to use, plugable platform which will allow developers/users to have open source chat bot SDK.\n",
    "\n"
   ]
  },
  {
   "cell_type": "markdown",
   "metadata": {
    "id": "HcshY-SCF87R"
   },
   "source": [
    "## 1. Install Dependencies\n",
    "\n",
    "Install Privacera SecureChat"
   ]
  },
  {
   "cell_type": "code",
   "execution_count": null,
   "metadata": {
    "id": "SOzmjlrfF87R"
   },
   "outputs": [],
   "source": [
    "!pip install -q privacera_securechat --no-warn-conflicts"
   ]
  },
  {
   "cell_type": "markdown",
   "metadata": {
    "id": "faTP1gkv1ysS"
   },
   "source": [
    "## 2. Upload Privacera AI application config JSON file\n",
    "\n",
    "Log into your account in Privacera AI. Go to the Application section and create an application. Then click on the Download App Config button to download the application configuration JSON file.\n",
    "\n",
    "1. You will then upload the configuration file into the jupyter notebook and copy the path of the uploaded file and paste it below in the file_name=\"\\<PLEASE_CHANGE\\>\""
   ]
  },
  {
   "cell_type": "code",
   "execution_count": null,
   "metadata": {
    "id": "A-90zchM1ysd"
   },
   "outputs": [],
   "source": [
    "import os, shutil\n",
    "file_name=\"<PLEASE_CHANGE>\"\n",
    "if not os.path.exists(\"custom-configs\"):\n",
    "    os.makedirs(\"custom-configs\")\n",
    "if os.path.isfile(file_name):\n",
    "    shutil.copy(file_name, \"custom-configs/privacera-shield-config.json\")\n",
    "else:\n",
    "    print(\"Please provide a valid file name\")\n"
   ]
  },
  {
   "cell_type": "markdown",
   "metadata": {
    "id": "Fkc2B_pQPLCT"
   },
   "source": [
    "## 3. Launch Privacera SecureChat\n",
    "\n",
    "Your SecureChat will be started in background with minimal setup. You can setup PAIG Shield key to have a look into AI goverance using Privacera. You can stop the app by running\n",
    "\n",
    "> launcher.close_app()\n",
    "\n",
    "\n",
    "\n",
    "\n",
    "\n",
    "\n"
   ]
  },
  {
   "cell_type": "code",
   "execution_count": null,
   "metadata": {
    "id": "J2GQ8Z-DPLCT"
   },
   "outputs": [],
   "source": [
    "from privacera_securechat import launcher\n",
    "session = launcher.launch_app()"
   ]
  },
  {
   "cell_type": "markdown",
   "metadata": {},
   "source": [
    "After SecureChat starts up, you can open it from your browser using the IP address of your EC2 and port 3535. E.g. `http://<EC2-IP>:3535`"
   ]
  }
 ],
 "metadata": {
  "colab": {
   "collapsed_sections": [
    "HcshY-SCF87R",
    "HblpCLwAOTGA",
    "faTP1gkv1ysS"
   ],
   "provenance": []
  },
  "kernelspec": {
   "display_name": "Python 3 (ipykernel)",
   "language": "python",
   "name": "python3"
  },
  "language_info": {
   "codemirror_mode": {
    "name": "ipython",
    "version": 3
   },
   "file_extension": ".py",
   "mimetype": "text/x-python",
   "name": "python",
   "nbconvert_exporter": "python",
   "pygments_lexer": "ipython3",
   "version": "3.11.5"
  }
 },
 "nbformat": 4,
 "nbformat_minor": 4
}
