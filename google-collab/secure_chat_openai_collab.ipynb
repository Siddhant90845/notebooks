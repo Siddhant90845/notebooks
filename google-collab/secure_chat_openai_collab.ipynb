{
 "cells": [
  {
   "cell_type": "markdown",
   "metadata": {
    "id": "vM6Yo7miVSEJ"
   },
   "source": [
    "<center>\n",
    "    <p style=\"text-align:center\">\n",
    "        <img width=\"500\" height=\"120\" src=\"https://privacera.com/wp-content/uploads/2022/11/logo.png\" alt=\"Privacera\" class=\"site-logo__image entered lazyloaded\" data-lazy-src=\"https://privacera.com/wp-content/uploads/2022/11/logo.png\" data-ll-status=\"loaded\">\n",
    "        <br>\n",
    "        <a href=\"https://privacera.ai/\">Vist Us</a>\n",
    "    </p>\n",
    "</center>\n",
    "<div width=\"100%\"> <h1 style=\"text-align:center;align-self: center\">Privacera SecureChat</h1> </div>\n",
    "\n",
    "Secure Chat is a conversational AI chat bot .\n",
    "Secure chat allows users to create  conversations with an AI chat bot which can optionally  be governed by Privacera AI Governance Services(PAIG).\n",
    "Secure chat SDK/Library provides an easy to use, plugable platform which will allow developers/users to have open source chat bot SDK.\n",
    "\n",
    "\n",
    "To run this notebook you will need the following,\n",
    "\n",
    "\n",
    "1.  Sign up for a free account in [Privacera AI](https://privacera.ai)\n",
    "2.  Your OpenAI API Key.\n",
    "\n"
   ]
  },
  {
   "cell_type": "markdown",
   "metadata": {
    "id": "-fFK5JrmAbWo"
   },
   "source": []
  },
  {
   "cell_type": "markdown",
   "metadata": {
    "id": "HcshY-SCF87R"
   },
   "source": [
    "## 1. Install Dependencies\n",
    "\n",
    "Install Privacera SecureChat"
   ]
  },
  {
   "cell_type": "code",
   "execution_count": null,
   "metadata": {
    "id": "SOzmjlrfF87R"
   },
   "outputs": [],
   "source": [
    "!pip install -q privacera_securechat --no-warn-conflicts"
   ]
  },
  {
   "cell_type": "markdown",
   "metadata": {
    "id": "HblpCLwAOTGA"
   },
   "source": [
    "## 2. Configure OpenAI API Key\n",
    "\n",
    "Setup your OpenAI key as an environment variable.Please paste and enter your key in the given text box."
   ]
  },
  {
   "cell_type": "code",
   "execution_count": null,
   "metadata": {
    "id": "zcoKMzwSlO8M"
   },
   "outputs": [],
   "source": [
    "from getpass import getpass\n",
    "import os\n",
    "os.environ[\"OPENAI_API_KEY\"] = getpass(\"🔑 Enter your OpenAI API key: \")"
   ]
  },
  {
   "cell_type": "markdown",
   "metadata": {
    "id": "faTP1gkv1ysS"
   },
   "source": [
    "## 3. Upload Privacera AI application config JSON file\n",
    "\n",
    "Log into your account in Privacera AI. Go to the Application section and create an application. Then click on the Download App Config button to download the application configuration JSON file.\n",
    "\n",
    "In this step you will upload the JSON file into the Collab notebook."
   ]
  },
  {
   "cell_type": "code",
   "execution_count": null,
   "metadata": {
    "id": "A-90zchM1ysd"
   },
   "outputs": [],
   "source": [
    "from google.colab import files\n",
    "import shutil, os\n",
    "uploaded = files.upload()\n",
    "files = uploaded.keys()\n",
    "if len(files) > 1:\n",
    "  print(\"Upload only the application config json file\")\n",
    "else:\n",
    "  file_name = list(files)[0]\n",
    "  if file_name.endswith('.json'):\n",
    "    if not os.path.exists(\"custom-configs\"):\n",
    "      os.makedirs(\"custom-configs\")\n",
    "    shutil.move(file_name, \"custom-configs/privacera-shield-config.json\")\n",
    "  else:\n",
    "    os.remove(file_name)\n",
    "    print(\"Please upload valid json file\")"
   ]
  },
  {
   "cell_type": "markdown",
   "metadata": {
    "id": "Fkc2B_pQPLCT"
   },
   "source": [
    "## 4. Launch Privacera SecureChat\n",
    "\n",
    "> Add blockquote\n",
    "\n",
    "\n",
    "\n",
    "Your SecureChat will be started in the background with minimal setup. You can setup the PAIG Shield key to have a look into AI governance using Privacera AI. You can stop the app by running\n",
    "\n",
    "```\n",
    "launcher.close_app()\n",
    "```\n",
    "\n",
    "\n",
    "\n",
    "\n",
    "\n"
   ]
  },
  {
   "cell_type": "code",
   "execution_count": null,
   "metadata": {
    "id": "J2GQ8Z-DPLCT"
   },
   "outputs": [],
   "source": [
    "from privacera_securechat import launcher\n",
    "session = launcher.launch_app()"
   ]
  },
  {
   "cell_type": "markdown",
   "metadata": {
    "id": "vyhIGZYlQrRJ"
   },
   "source": [
    "## 5. Explore Privacera SecureChat Web UI\n",
    "\n",
    "You will be served with the embedded Web-UI of Privacera SecureChat. In the Colab mode,  you will be assigned a dedicated default login user. This might take few seconds , hang on...."
   ]
  },
  {
   "cell_type": "code",
   "execution_count": null,
   "metadata": {
    "id": "1Sq_DSpUQrRK"
   },
   "outputs": [],
   "source": [
    "launcher.active_session().view(height=800)"
   ]
  }
 ],
 "metadata": {
  "colab": {
   "collapsed_sections": [
    "HcshY-SCF87R",
    "HblpCLwAOTGA",
    "faTP1gkv1ysS"
   ],
   "provenance": []
  },
  "kernelspec": {
   "display_name": "Python 3",
   "name": "python3"
  },
  "language_info": {
   "name": "python"
  }
 },
 "nbformat": 4,
 "nbformat_minor": 0
}
