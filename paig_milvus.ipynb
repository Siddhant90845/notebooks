{
  "nbformat": 4,
  "nbformat_minor": 0,
  "metadata": {
    "colab": {
      "provenance": []
    },
    "kernelspec": {
      "name": "python3",
      "display_name": "Python 3"
    },
    "language_info": {
      "name": "python"
    }
  },
  "cells": [
    {
      "cell_type": "markdown",
      "source": [
        "# Privacera AI Governance - Milvus Vector Database Filter\n",
        "\n",
        "This notebook shows how to use Privacera Shield Library with a LangChain application that uses Milvus Vector Database. To run this notebook you will need the following,\n",
        "\n",
        "\n",
        "1.  Sign up for a free account at [Privacera AI Governance (PAIG)](https://privacera.ai). This is simple, all you need is your email address.\n",
        "2.  Your OpenAI API Key. This will allow you to create your first OpenAI application governed by Privacera AI Governance."
      ],
      "metadata": {
        "id": "YQXaxky82t3y"
      }
    },
    {
      "cell_type": "markdown",
      "source": [
        "# 1. Install the Python packages\n",
        "This will take several seconds, upto a minute."
      ],
      "metadata": {
        "id": "QeU_CKQt3UhC"
      }
    },
    {
      "cell_type": "code",
      "source": [
        "!pip -q install  \\\n",
        "  milvus \\\n",
        "  pymilvus \\\n",
        "  langchain==0.2.0 \\\n",
        "  langchain-core==0.2.0 \\\n",
        "  langchain-community==0.2.0 \\\n",
        "  langchain-openai==0.1.7 \\\n",
        "  langchain-text-splitters==0.2.0 \\\n",
        "  privacera_shield==1.1.5\n"
      ],
      "metadata": {
        "collapsed": true,
        "id": "J5617p25wRX0"
      },
      "execution_count": null,
      "outputs": []
    },
    {
      "cell_type": "markdown",
      "source": [
        "# 2. Start Milvus Vector Database\n",
        "This step will take less than a minute. There could be a few connection errors as Milvus starts, but finally it should say 'Connected to Milvus'"
      ],
      "metadata": {
        "id": "jKg1W2Iv3doC"
      }
    },
    {
      "cell_type": "code",
      "source": [
        "get_ipython().system_raw('milvus-server &')\n",
        "!while ! (ps aux | grep -q '[m]ilvus' && ps aux | grep -q '[m]ilvus-server'); do sleep 1; done; echo 'Milvus is ready'\n",
        "\n",
        "# Replace with your actual Milvus server parameters if different\n",
        "MILVUS_HOST = \"127.0.0.1\"\n",
        "MILVUS_PORT = \"19530\"\n",
        "\n",
        "while True:\n",
        "    try:\n",
        "        import time\n",
        "        from pymilvus import connections\n",
        "\n",
        "        connections.connect(host=MILVUS_HOST, port=MILVUS_PORT)\n",
        "        print(\"Connected to Milvus\")\n",
        "        break\n",
        "    except Exception as e:\n",
        "        print(f\"Connection failed: {e}\")\n",
        "        time.sleep(1)"
      ],
      "metadata": {
        "id": "nC7rARxUvEHl"
      },
      "execution_count": null,
      "outputs": []
    },
    {
      "cell_type": "markdown",
      "source": [
        "# 3. Create a Sample Collection in Milvus Vector Database\n",
        "\n",
        "In this step, we will create a sample collection in Milvus Vector Database with\n",
        "following schema -\n",
        "- source - name of the document file\n",
        "- text - content of the document\n",
        "- pk - primary key\n",
        "- vector - embedding vector of the content\n",
        "- users - list of users that have access to this document\n",
        "- groups - list of groups that have access to this document\n",
        "- metadata - additional metadata associated with this document"
      ],
      "metadata": {
        "id": "4f334OlS34pD"
      }
    },
    {
      "cell_type": "code",
      "source": [
        "from pymilvus import CollectionSchema, FieldSchema, DataType\n",
        "\n",
        "COLLECTION_NAME = \"PrivaceraSampleCollection\"\n",
        "\n",
        "def create_collection():\n",
        "    source = FieldSchema(\n",
        "        name=\"source\",\n",
        "        dtype=DataType.VARCHAR,\n",
        "        max_length=65535\n",
        "    )\n",
        "    text = FieldSchema(\n",
        "        name=\"text\",\n",
        "        dtype=DataType.VARCHAR,\n",
        "        max_length=65535\n",
        "    )\n",
        "    pk = FieldSchema(\n",
        "        name=\"pk\",\n",
        "        dtype=DataType.INT64,\n",
        "        is_primary=True,\n",
        "        auto_id=True\n",
        "    )\n",
        "    vector = FieldSchema(\n",
        "        name=\"vector\",\n",
        "        dtype=DataType.FLOAT_VECTOR,\n",
        "        dim=1536\n",
        "    )\n",
        "    users = FieldSchema(\n",
        "        name=\"users\",\n",
        "        dtype=DataType.ARRAY,\n",
        "        element_type=DataType.VARCHAR,\n",
        "        max_length=65535,\n",
        "        max_capacity=1024\n",
        "    )\n",
        "    groups = FieldSchema(\n",
        "        name=\"groups\",\n",
        "        dtype=DataType.ARRAY,\n",
        "        element_type=DataType.VARCHAR,\n",
        "        max_length=65535,\n",
        "        max_capacity=1024\n",
        "    )\n",
        "    metadata = FieldSchema(\n",
        "        name=\"metadata\",\n",
        "        dtype=DataType.JSON\n",
        "    )\n",
        "\n",
        "    schema = CollectionSchema(\n",
        "        fields=[source, text, pk, vector, users, groups, metadata],\n",
        "        description=\"Sample Privacera Milvus Collection\",\n",
        "        enable_dynamic_field=True\n",
        "    )\n",
        "\n",
        "    from pymilvus import connections\n",
        "    connections.connect(\n",
        "        alias=\"default\",\n",
        "        host=MILVUS_HOST,\n",
        "        port=MILVUS_PORT\n",
        "    )\n",
        "\n",
        "    from pymilvus import Collection\n",
        "\n",
        "    collection = Collection(\n",
        "        name=COLLECTION_NAME,\n",
        "        schema=schema,\n",
        "        using='default'\n",
        "    )\n",
        "\n",
        "    from pymilvus import Collection\n",
        "\n",
        "    collection = Collection(COLLECTION_NAME)\n",
        "\n",
        "    index_params = {\n",
        "        \"index_type\": \"HNSW\",\n",
        "        \"metric_type\": \"L2\",\n",
        "        \"params\": {\n",
        "            \"M\": 10,\n",
        "            \"efConstruction\": 8\n",
        "        }\n",
        "    }\n",
        "\n",
        "    collection.create_index(\n",
        "        field_name=\"vector\",\n",
        "        index_params=index_params,\n",
        "        index_name=\"index\"\n",
        "    )\n",
        "    print(f\"Collection = {COLLECTION_NAME} created\")\n",
        "\n",
        "create_collection()"
      ],
      "metadata": {
        "id": "ba14MlnNwRFF"
      },
      "execution_count": null,
      "outputs": []
    },
    {
      "cell_type": "markdown",
      "source": [
        "# 4. Create sample documents in a folder\n",
        "\n",
        "Now we create some sample documents in a folder named raw_data that will be loaded into the collection that we have created."
      ],
      "metadata": {
        "id": "s6dzPxoc4UKo"
      }
    },
    {
      "cell_type": "code",
      "source": [
        "import os\n",
        "\n",
        "def create_raw_data():\n",
        "    raw_data_dir = \"raw_data\"\n",
        "\n",
        "    file_contents = {\n",
        "        \"Nancy.txt\": \"\"\"Nancy is a customer in our dataset.\n",
        "She resides in the United States and can be reached at her email address, nancy@yahoo.com.\n",
        "Nancy's unique identifier, often associated with individuals in the United States, is her Social Security Number (SSN), which is 201-99-5532.\n",
        "She can be contacted via her US phone number, 856-232-9702, and her physical address is 939 Park Avenue.\n",
        "Her account is identified by the account ID 159635478, and her zipcode is 33317.\"\"\",\n",
        "\n",
        "        \"Gene.txt\": \"\"\"Gene is a customer,\n",
        "and he is based in the United Kingdom.\n",
        "His email address is gene@google.us.\n",
        "His unique identifier, 202-99-5532, is his Social Security Number (SSN).\n",
        "Gene's contact number is 954-583-0575.\n",
        "He resides at 303 Johnston Blvd and has an account with the ID 236854569. His UK postal code is 95202.\"\"\",\n",
        "\n",
        "        \"Edward.txt\": \"\"\"Edward is a customer,\n",
        "and is based in the United States.\n",
        "You can contact him at edward@facebook.com.\n",
        "His unique identifier is his Social Security Number (SSN), which is 203-99-5532.\n",
        "Edward's US phone number is 209-626-9041, and his address is 130 Hollister.\n",
        "He has an account with the ID 365412985 and resides in the zipcode 60173.\"\"\",\n",
        "\n",
        "        \"Pearlene.txt\": \"\"\"Pearlene is a customer,\n",
        "based in the United States.\n",
        "You can contact her at pearlene@gmail.com.\n",
        "Her unique identifier is her Social Security Number (SSN), which is 204-99-5532.\n",
        "Pearlene's US phone number is 708-471-6810, and her address is 17 Warren Rd.\n",
        "She has an account with the ID 452189732 and resides in the zipcode 90017.\"\"\",\n",
        "\n",
        "        \"Pamela.txt\": \"\"\"Pamela, is a customer and resides in the United Kingdom.\n",
        "You can contact her at pamela@cuvox.de.\n",
        "Her unique identifier is her Social Security Number (SSN), which is 206-99-5532.\n",
        "Pamela's UK phone number is 650-526-5259, and her address is 861 Strick Rd.\n",
        "She has an account with the ID 685231473 and lives in the postal code 80214.\"\"\"\n",
        "    }\n",
        "\n",
        "    os.mkdir(raw_data_dir)\n",
        "\n",
        "    for file_path, content in file_contents.items():\n",
        "        file_path_with_dir = raw_data_dir + \"/\" + file_path\n",
        "        with open(file_path_with_dir, 'w') as file:\n",
        "            file.write(content)\n",
        "\n",
        "    print(\"Raw data created successfully.\")\n",
        "\n",
        "create_raw_data()"
      ],
      "metadata": {
        "id": "Y7S3qRusxDQH"
      },
      "execution_count": null,
      "outputs": []
    },
    {
      "cell_type": "markdown",
      "source": [
        "# 5. Associate metadata with the documents\n",
        "Here, we create a custom loader class that will add additional metadata for each *document* in the collection. For each document, we have list of users who are allowed to access the document, a list of groups that are allowed to access the document and additional metadata such as location (country) associated with the document.\n",
        "\n",
        "We will use the users, groups and country attribute to filter the documents based upon the user querying the vector database."
      ],
      "metadata": {
        "id": "mPwRbVwo4hKJ"
      }
    },
    {
      "cell_type": "code",
      "source": [
        "from typing import Optional, List, Iterator\n",
        "from langchain_community.document_loaders import TextLoader\n",
        "from langchain.schema import Document\n",
        "\n",
        "class CustomTextLoader(TextLoader):\n",
        "    def __init__(self, file_path: str, encoding: Optional[str] = None, autodetect_encoding: bool = False):\n",
        "        super().__init__(file_path, encoding, autodetect_encoding)\n",
        "        print(f\"inside CustomTextLoader init, file_path={file_path}\")\n",
        "\n",
        "    def lazy_load(self) -> Iterator[Document]:\n",
        "        documents = super().lazy_load()\n",
        "\n",
        "        print(f\"lazy_load: before fore loop\")\n",
        "        for doc in documents:\n",
        "            file_name = os.path.basename(self.file_path)\n",
        "            print(f\"lazy_load: file_name={file_name}\")\n",
        "            if file_name == \"Nancy.txt\":\n",
        "                doc.metadata[\"users\"] = [\"tom\", \"tobin\", \"john\", \"bob\"]\n",
        "                doc.metadata[\"groups\"] = [\"accounts\", \"privacera-all\", \"privacera-us\"]\n",
        "                doc.metadata[\"metadata\"] = {\"country\": \"US\", \"file_name\": file_name}\n",
        "            elif file_name == \"Gene.txt\":\n",
        "                doc.metadata[\"users\"] = [\"testuser\", \"hannah\", \"john\", \"bob\"]\n",
        "                doc.metadata[\"groups\"] = [\"hr\", \"privacera-all\", \"privacera-us\"]\n",
        "                doc.metadata[\"metadata\"] = {\"country\": \"UK\", \"file_name\": file_name}\n",
        "            elif file_name == \"Edward.txt\":\n",
        "                doc.metadata[\"users\"] = [\"testuser\", \"ryan\", \"john\", \"bob\"]\n",
        "                doc.metadata[\"groups\"] = [\"sales\", \"privacera-all\", \"privacera-us\"]\n",
        "                doc.metadata[\"metadata\"] = {\"country\": \"US\", \"file_name\": file_name}\n",
        "            elif file_name == \"Pearlene.txt\":\n",
        "                doc.metadata[\"users\"] = [\"mark\", \"mary\", \"john\", \"bob\"]\n",
        "                doc.metadata[\"groups\"] = [\"marketing\", \"privacera-all\", \"privacera-us\"]\n",
        "                doc.metadata[\"metadata\"] = {\"country\": \"US\", \"file_name\": file_name}\n",
        "            elif file_name == \"Pamela.txt\":\n",
        "                doc.metadata[\"users\"] = [\"aaron\", \"adam\", \"john\", \"bob\"]\n",
        "                doc.metadata[\"groups\"] = [\"sales\", \"privacera-all\", \"privacera-us\"]\n",
        "                doc.metadata[\"metadata\"] = {\"country\": \"UK\", \"file_name\": file_name}\n",
        "\n",
        "            yield doc"
      ],
      "metadata": {
        "id": "ynYJB7tNxM0Q"
      },
      "execution_count": null,
      "outputs": []
    },
    {
      "cell_type": "markdown",
      "source": [
        "# 6. Set your OpenAI API key in the environment\n",
        "Enter your OpenAI API key so that it is set in the environment. This key will not be uploaded to Privacera AI Governance service."
      ],
      "metadata": {
        "id": "GVfBrEBp5M3i"
      }
    },
    {
      "cell_type": "code",
      "source": [
        "from getpass import getpass\n",
        "\n",
        "#if os.environ.get(\"OPENAI_API_KEY\") is None:\n",
        "openai_api_key = getpass(\"🔑 Enter your OpenAI API key and hit Enter:\")\n",
        "os.environ[\"OPENAI_API_KEY\"] = openai_api_key"
      ],
      "metadata": {
        "id": "GK7ihmtux6rI"
      },
      "execution_count": null,
      "outputs": []
    },
    {
      "cell_type": "markdown",
      "source": [
        "# 7. Load the sample documents into Milvus vector database\n",
        "Now the sample documents are loaded into Milvus vector database using LangChain and OpenAI embedding API."
      ],
      "metadata": {
        "id": "iCw3ApSy7F1f"
      }
    },
    {
      "cell_type": "code",
      "source": [
        "from langchain_community.document_loaders import DirectoryLoader\n",
        "from langchain.text_splitter import CharacterTextSplitter\n",
        "from langchain_openai import OpenAIEmbeddings\n",
        "from langchain_community.vectorstores.milvus import Milvus\n",
        "\n",
        "text_loader_kwargs = {'autodetect_encoding': True}\n",
        "loader = DirectoryLoader(\"raw_data\", glob=\"**/*.txt\", loader_cls=CustomTextLoader, loader_kwargs=text_loader_kwargs)\n",
        "docs = loader.load()\n",
        "\n",
        "print(f\"len docs = {len(docs)}\")\n",
        "\n",
        "text_splitter = CharacterTextSplitter(chunk_size=1024, chunk_overlap=0)\n",
        "docs = text_splitter.split_documents(docs)\n",
        "\n",
        "# Create OpenAI Embeddings\n",
        "embeddings = OpenAIEmbeddings(openai_api_key=openai_api_key)\n",
        "\n",
        "vector_store = Milvus.from_documents(\n",
        "    docs,\n",
        "    embedding=embeddings,\n",
        "    collection_name=COLLECTION_NAME,\n",
        "    connection_args={\"host\": MILVUS_HOST, \"port\": MILVUS_PORT}\n",
        ")\n",
        "\n",
        "print(\"Loaded data into collection successfully.\")"
      ],
      "metadata": {
        "id": "PHs_9nJtxj8g"
      },
      "execution_count": null,
      "outputs": []
    },
    {
      "cell_type": "markdown",
      "source": [
        "# 8. Upload Privacera AI Application configuration file into Colab\n",
        "\n",
        "In this step, we will create an AI Application configuration in PAIG that will be used to associate PAIG with a sample RAG Langchain application.\n",
        "\n",
        "1. Log into your account in PAIG.\n",
        "1. To create a new application, go to Application -> AI Application and click the CREATE APPLICATION button on the right top. This will open a dialog box where you can enter the details of the application such as a name and description.\n",
        "1. Click on the Permissions tab of the application and disable all the policies.\n",
        "1. Now, click on Application -> Vector DB and create a Vector DB and name it Milvus, and save it.\n",
        "1. Navigate back to the Application -> AI Application and select your application. Click on the pencil icon in the Information panel, and then click on the Enabled toggle to enable it, and then click on the Associated VectorDB drop-down and select the Milvus vector database, and then click on Save in the application panel.\n",
        "1. Click on the DOWNLOAD APP CONFIG button from the right top to download the configuration file.\n",
        "1. You will then upload the configuration file into the Collab notebook by following this step. After you run this step, click on Choose Files button and upload the AI application configuration file."
      ],
      "metadata": {
        "id": "nyRmcSxp5ePx"
      }
    },
    {
      "cell_type": "code",
      "source": [
        "from google.colab import files\n",
        "uploaded = files.upload()\n",
        "files = uploaded.keys()\n",
        "if len(files) > 1:\n",
        "  print(\"Upload only the application config json file\")\n",
        "else:\n",
        "  app_config_file_content = uploaded[list(files)[0]].decode('UTF-8')"
      ],
      "metadata": {
        "id": "DSsAuPhh2CE2"
      },
      "execution_count": null,
      "outputs": []
    },
    {
      "cell_type": "markdown",
      "source": [
        "# 9. LangChain RAG bot\n",
        "We have implemented a small RAG bot using LangChain that will use the Milvus vector database to provide the context.\n"
      ],
      "metadata": {
        "id": "R7H1naA_8kU5"
      }
    },
    {
      "cell_type": "code",
      "source": [
        "import privacera_shield\n",
        "from privacera_shield import client as privacera_shield_client\n",
        "from langchain.memory import ConversationBufferWindowMemory\n",
        "from langchain_openai import ChatOpenAI\n",
        "from langchain.prompts import PromptTemplate\n",
        "from langchain.chains import ConversationalRetrievalChain\n",
        "\n",
        "\n",
        "memory = ConversationBufferWindowMemory(memory_key=\"chat_history\", return_messages=True, k=3)\n",
        "\n",
        "# Create Milvus vector store\n",
        "vector_store = Milvus(embeddings, COLLECTION_NAME, connection_args={\"host\": MILVUS_HOST, \"port\": MILVUS_PORT})\n",
        "\n",
        "# expose this index in a retriever interface\n",
        "milvus_retriever = vector_store.as_retriever(\n",
        "    search_type=\"similarity\", search_kwargs={\"k\": 100}\n",
        ")\n",
        "\n",
        "# Initialize Privacera Shield\n",
        "privacera_shield_client.setup(frameworks=[\"milvus\", \"langchain\"], application_config=app_config_file_content)\n",
        "\n",
        "llm = ChatOpenAI(openai_api_key=openai_api_key, model_name=\"gpt-3.5-turbo\")\n",
        "template = \"\"\"Question: {question}\n",
        "\n",
        "Answer: Let's think step by step.\"\"\"\n",
        "prompt = PromptTemplate(template=template, input_variables=[\"question\"])\n",
        "\n"
      ],
      "metadata": {
        "id": "BVBorz6S1mNy"
      },
      "execution_count": null,
      "outputs": []
    },
    {
      "cell_type": "markdown",
      "source": [
        "# 10. Ask a question\n",
        "Lets ask a questionto our RAG bot as user 'testuser'.\n",
        "\n",
        "Since we have not yet configured any vector database filtering policy in PAIG, we will get the contact details of all the 5 customers."
      ],
      "metadata": {
        "id": "mvHNN3GR84n9"
      }
    },
    {
      "cell_type": "code",
      "source": [
        "# Let's assume the user is \"testuser\"\n",
        "user = \"testuser\"\n",
        "query = \"Give the contact details of our customers.\"\n",
        "print(f\"Prompt: {query}\")\n",
        "print()\n",
        "\n",
        "llm_chain = ConversationalRetrievalChain.from_llm(llm=llm, retriever=milvus_retriever, memory=memory, verbose=True)\n",
        "try:\n",
        "    with privacera_shield_client.create_shield_context(username=user):\n",
        "        response = llm_chain.invoke({\"question\": query})\n",
        "        print(f\"LLM Response: {response.get('answer')}\")\n",
        "except privacera_shield.exception.AccessControlException as e:\n",
        "    # If access is denied, then this exception will be thrown. You can handle it accordingly.\n",
        "    print(f\"AccessControlException: {e}\")"
      ],
      "metadata": {
        "id": "Ai2AFo5k3H_1"
      },
      "execution_count": null,
      "outputs": []
    },
    {
      "cell_type": "markdown",
      "source": [
        "# 11. Filter vector database by users and groups\n",
        "\n",
        "In this use-case, we will enable User/Group filter access to documents in the vector database so that the vector database will use only those documents to which the user, testuser,  has access to. Here are the steps to follow -\n",
        "1. Click on Application -> Vector DB and select Milvus vector database\n",
        "1. Click on the Permissions tab and click on the pencil icon in the top panel.\n",
        "1. Click on the User/Group Access-Limited Retrieval toggle to enable it and then click on the Save button.\n",
        "1. Wait for a few seconds and re-run step [10. Ask a question](#scrollTo=mvHNN3GR84n9&line=1&uniqifier=1) in the notebook. Now the response will have only 2 customers. These are the 2 customer documents for which testuser has access to. You can check the metadata for each document in step [5. Associate metadata with the documents](#scrollTo=mPwRbVwo4hKJ&line=1&uniqifier=1) above."
      ],
      "metadata": {
        "id": "BtWYGru1_WbK"
      }
    },
    {
      "cell_type": "markdown",
      "source": [
        "# 12. Filter vector database by country attribute\n",
        "In this use-case, we will also enable filtering of the vector database documents by using an attribute. Here are the steps to follow -\n",
        "1. Lets first create the metadata for country and it's values. Click on Account -> Metadata.\n",
        "1. Click on the plus sign in the Metadata column. Enter 'country' in the Add Metadata pop-up and save it.\n",
        "1. Select the country, and then click on Add Value button. Add the values 'US' and 'UK' as two different values for the country metadata.\n",
        "1. Navigate to Application -> Vector DB and select Milvus vector database.\n",
        "1. Click on the permissions tab.\n",
        "1. Click on Add Data Filtering in teh RAG Contextual Data Filtering.\n",
        "1. In the pop-up, select the 'country' metadata from the Tag drop-down, then select the 'US' for Tag Value drop-down. Enter 'testuser' in the 'Granted Access' field, and click the save button.\n",
        "1. Wait for few seconds and then re-run step [10. Ask a question](#scrollTo=mvHNN3GR84n9&line=1&uniqifier=1) in the notebook. Now the response will be only 1 customer as testuser has access to only 1 customer who has country attribute with value 'US'. You can check the metadata in [5. Associate metadata with the documents](#scrollTo=mPwRbVwo4hKJ&line=1&uniqifier=1)\n"
      ],
      "metadata": {
        "id": "wYQfVmS6At0v"
      }
    }
  ]
}