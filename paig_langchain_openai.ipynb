{
  "nbformat": 4,
  "nbformat_minor": 0,
  "metadata": {
    "colab": {
      "provenance": []
    },
    "kernelspec": {
      "name": "python3",
      "display_name": "Python 3"
    },
    "language_info": {
      "name": "python"
    }
  },
  "cells": [
    {
      "cell_type": "markdown",
      "source": [
        "# Privacera Shield protecting LangChain Application\n",
        "This notebook shows how to use Privacera Shield Library with a LangChain application. To run this notebook you will need the following,\n",
        "\n",
        "\n",
        "1.  Sign up for a free account at [Privacera AI Governance (PAIG)](https://privacera.ai). This is simple, all you need is your email address.\n",
        "2.  Your OpenAI API Key. This will allow you to create your first OpenAI application governed by Privacera AI Governance."
      ],
      "metadata": {
        "id": "U9bucZb6kQFS"
      }
    },
    {
      "cell_type": "markdown",
      "source": [
        "# Step 1 - Install the Python packages\n",
        "This step will take about a minute to complete.\n",
        "\n"
      ],
      "metadata": {
        "id": "_eFlXkpmH5MF"
      }
    },
    {
      "cell_type": "code",
      "execution_count": null,
      "metadata": {
        "id": "w78AqwXxVG2D"
      },
      "outputs": [],
      "source": [
        "!pip install -qqq \\\n",
        "  langchain-community==0.2.0 \\\n",
        "  langchain-openai==0.1.7 \\\n",
        "  langchain==0.2.0 \\\n",
        "  privacera_shield==1.1.5"
      ]
    },
    {
      "cell_type": "markdown",
      "source": [
        "# Step 2 - Upload Privacera AI application configuration file into Collab\n",
        "1. Log into your account in PAIG.\n",
        "1. To create a new application, go to Application > AI Application and click the CREATE APPLICATION button on the right top. This will open a dialog box where you can enter the details of the application.\n",
        "1. Navigate to Application -> AI Applications and select the application you want to download the configuration file for. Click on the DOWNLOAD APP CONFIG button from the right top to download the configuration file.\n",
        "1. You will then upload the configuration file into the Collab notebook by following this step. After you run this step, click on Choose Files button and upload the AI application configuration file."
      ],
      "metadata": {
        "id": "NFhrfjKgIB2Q"
      }
    },
    {
      "cell_type": "code",
      "source": [
        "from google.colab import files\n",
        "uploaded = files.upload()\n",
        "files = uploaded.keys()\n",
        "if len(files) > 1:\n",
        "  print(\"Upload only the application config json file\")\n",
        "else:\n",
        "  app_config_file_content = uploaded[list(files)[0]].decode('UTF-8')"
      ],
      "metadata": {
        "id": "E4jAFpt3X69y"
      },
      "execution_count": null,
      "outputs": []
    },
    {
      "cell_type": "markdown",
      "source": [
        "# Step 3 - Configure your OpenAI API Key into the environment.\n",
        "Enter your OpenAI API key in the pop-up. This key is stored in the environment of the notebook and not uploaded to PAIG.\n",
        "\n",
        "Hit enter after you have pasted the key."
      ],
      "metadata": {
        "id": "b8GMQzsbIY8_"
      }
    },
    {
      "cell_type": "code",
      "source": [
        "import os\n",
        "from getpass import getpass\n",
        "\n",
        "if os.environ.get(\"OPENAI_API_KEY\") is None:\n",
        "    openai_api_key = getpass(\"🔑 Enter your OpenAI API key and hit Enter:\")\n",
        "    os.environ[\"OPENAI_API_KEY\"] = openai_api_key"
      ],
      "metadata": {
        "id": "524RQuxcIjRd"
      },
      "execution_count": null,
      "outputs": []
    },
    {
      "cell_type": "markdown",
      "source": [
        "# Step 4 - Import all the required packages"
      ],
      "metadata": {
        "id": "W8rihbIlUmyN"
      }
    },
    {
      "cell_type": "code",
      "source": [
        "import os\n",
        "from privacera_shield import client as privacera_shield_client\n",
        "from privacera_shield.exception import AccessControlException\n",
        "from langchain_openai import OpenAI\n",
        "from langchain_core.prompts import PromptTemplate\n",
        "\n",
        "# utility function to wrap the output\n",
        "def wrap_text(text, width=80):\n",
        "    words = text.split()\n",
        "    character_count = 0\n",
        "    for word in words:\n",
        "        if character_count + len(word) + 1 > width:  # Check if adding the word would exceed the width\n",
        "            print(\"\\n\", end=\"\")  # Start a new line\n",
        "            character_count = 0  # Reset the character count for the new line\n",
        "        print(word, end=\" \")  # Print the word followed by a space\n",
        "        character_count += len(word) + 1  # Update the character count"
      ],
      "metadata": {
        "id": "Vuy2qyBQUqwU"
      },
      "execution_count": null,
      "outputs": []
    },
    {
      "cell_type": "markdown",
      "source": [
        "# Step 5 - Initialize the Privacera Shield library\n",
        "This one line of code will initialize the Privacera Shield library so that it is ready to protect your LangChain application.\n",
        "\n",
        "Tip: If you get an error in this step, it could be because you have already run this step once. You can ignore the error and continue. You can also try restarting the Kernel and start from the beginning with the proper JSON file and OpenAI API key."
      ],
      "metadata": {
        "id": "sOTTXIGbK2Do"
      }
    },
    {
      "cell_type": "code",
      "source": [
        "# Initialize Privacera Shield\n",
        "privacera_shield_client.setup(frameworks=[\"langchain\"], application_config=app_config_file_content)"
      ],
      "metadata": {
        "id": "6KfT9n58W0W9"
      },
      "execution_count": null,
      "outputs": []
    },
    {
      "cell_type": "markdown",
      "source": [
        "# Step 6 - Initialize OpenAI based LLM object in LangChain\n",
        "In this step, we are creating an LLM object for the OpenAI LLM and a prompt template."
      ],
      "metadata": {
        "id": "PF9i2B5CLAJS"
      }
    },
    {
      "cell_type": "code",
      "source": [
        "api_key = os.getenv(\"OPENAI_API_KEY\")  # (1)\n",
        "\n",
        "llm = OpenAI(openai_api_key=api_key)\n",
        "template = \"\"\"Question: {question}\n",
        "\n",
        "Answer: Let's think step by step.\"\"\"\n",
        "prompt = PromptTemplate(template=template, input_variables=[\"question\"])"
      ],
      "metadata": {
        "id": "qaYL9hvrLF2x"
      },
      "execution_count": null,
      "outputs": []
    },
    {
      "cell_type": "markdown",
      "source": [
        "# Step 7 - Run the LLMChain with your question\n",
        "In this step, we are going to run the LLMChain with the prompt asked by a user named 'testuser'. Note how we are passing the username by creating a Privacera Shield context object. Privacera Shield will intercept the prompt and the response coming from LLM for the testuser and run policies. The PAIG service scans both the prompt and response text and runs security policies. If the policies decide that the access is denied then an AccessControlException is thrown."
      ],
      "metadata": {
        "id": "1l98gNiALR3c"
      }
    },
    {
      "cell_type": "code",
      "source": [
        "# Let's assume the user is \"testuser\"\n",
        "user = \"testuser\"\n",
        "prompt_text = \"Who was the first President of USA and where did they live?\"\n",
        "print(f\"Prompt: {prompt_text}\")\n",
        "print()\n",
        "\n",
        "llm_chain = prompt | llm\n",
        "try:\n",
        "    with privacera_shield_client.create_shield_context(username=user):\n",
        "        response = llm_chain.invoke(prompt_text)\n",
        "        print(f\"LLM Response:\")\n",
        "        wrap_text(response)\n",
        "except AccessControlException as e:\n",
        "    # If access is denied, then this exception will be thrown. You can handle it accordingly.\n",
        "    print(f\"AccessControlException: {e}\")"
      ],
      "metadata": {
        "id": "S56ozXYGJERe"
      },
      "execution_count": null,
      "outputs": []
    },
    {
      "cell_type": "markdown",
      "source": [
        "# Step 8 - Review the access audits in PAIG portal under Security menu option\n",
        "Now you can log in to the PAIG portal and check under Security -> Access Audits section. You will see the audit record for the above run of your LangChain application.\n",
        "\n",
        "You can click on the eye icon and see the details of the prompts send by the application to the LLM and the responses coming from the LLM.\n",
        "\n",
        "The default policy in PAIG for the application monitors the flow and tags the contents of the prompt and response."
      ],
      "metadata": {
        "id": "ozwXgZt3OArz"
      }
    },
    {
      "cell_type": "markdown",
      "source": [
        "# Step 9 - Modify the policy of your AI application\n",
        "Log into the PAIG portal and navigate to your application under Application section. Click on the Permissions tab and enable the 'CCPA Personal Information Redaction' policy by clicking on the toggle in the status column. This will start redacting the sensitive data in the Prompt and Reply.\n",
        "\n",
        "Wait for few seconds and re-run Step 7 above. The reply will have the Location and Person name redacted, that is, replaced by <LOCATION> and <PERSON>. You can re-run Step 7 few times.\n",
        "\n",
        "Then check the access audits and you will see the original response from the LLM and how Privacera AI redacted the sensitive information out of it.\n",
        "\n",
        "You can modify the policy by clicking on the pencil icon and change the Prompt to Allow while keeping Reply to Redact.\n",
        "\n",
        "Wait for few seconds and re-run Step 7. In the access audits, you will see that the prompt is unchanged while the response is redacted.\n",
        "\n",
        "You can change the question in Step 7 and also try changing the policy to see the effect."
      ],
      "metadata": {
        "id": "r89FPYA9VxJ2"
      }
    },
    {
      "cell_type": "markdown",
      "source": [
        "# Next steps\n",
        "Continue your journey with PAIG by following these sections in the documentation link in the PAIG portal,\n",
        "- Integrating with Langchain application\n",
        "- Integrating with Python application\n",
        "- Try the Privacera SecureChat\n",
        "- PAIG User Guide"
      ],
      "metadata": {
        "id": "a-xGC0Rq-l2e"
      }
    }
  ]
}